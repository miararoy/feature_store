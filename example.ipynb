{
 "cells": [
  {
   "cell_type": "markdown",
   "metadata": {},
   "source": [
    "# Feature store Example"
   ]
  },
  {
   "cell_type": "code",
   "execution_count": 38,
   "metadata": {},
   "outputs": [],
   "source": [
    "# Imports\n",
    "\n",
    "import pandas as pd\n",
    "import requests"
   ]
  },
  {
   "cell_type": "code",
   "execution_count": 39,
   "metadata": {},
   "outputs": [],
   "source": [
    "url = 'https://feature-store-demo.herokuapp.com/v1.0'"
   ]
  },
  {
   "cell_type": "markdown",
   "metadata": {},
   "source": [
    "### Publishing quotes to db\n",
    "\n",
    "this step will launch 'n_flows' flows each flow will act as follows\n",
    "\n",
    "1. create a quote\n",
    "2. 8/10 quotes will bind to user\n",
    "3. 8/10 binded quotes will be paid and convert to policies\n",
    "4. each policy will have multiple payments"
   ]
  },
  {
   "cell_type": "code",
   "execution_count": 40,
   "metadata": {},
   "outputs": [],
   "source": [
    "publish_url = \"{}/publish\".format(url)\n",
    "\n",
    "params = {\"n_flows\":\"100\"}\n",
    "payload = \"\"\n",
    "headers = {'Content-Type': \"application/json\"}\n",
    "\n",
    "response = requests.request(\"PUT\", publish_url, data=payload, headers=headers, params=params)"
   ]
  },
  {
   "cell_type": "code",
   "execution_count": 41,
   "metadata": {},
   "outputs": [
    {
     "name": "stdout",
     "output_type": "stream",
     "text": [
      "200\n"
     ]
    },
    {
     "data": {
      "text/plain": [
       "{'msg': 'created 100 flows'}"
      ]
     },
     "execution_count": 41,
     "metadata": {},
     "output_type": "execute_result"
    }
   ],
   "source": [
    "print(response.status_code)\n",
    "response.json()"
   ]
  },
  {
   "cell_type": "markdown",
   "metadata": {},
   "source": [
    "### Data Science side (Training)\n",
    "\n",
    "1. loading the data via api\n",
    "2. converting to data frame\n",
    "3. writing etl.py file"
   ]
  },
  {
   "cell_type": "code",
   "execution_count": 42,
   "metadata": {},
   "outputs": [],
   "source": [
    "# I WILL BE USING THE FOLLOWING QUERY\n",
    "q = \"SELECT Q.user_id, Q.is_binded, Q.creation_date, Q.binding_date, T.card_type, F.failed_count, P.purchase_time FROM feature_store.quotes Q LEFT JOIN feature_store.policies P ON Q.user_id = P.user_id LEFT JOIN feature_store.transactions T ON P.user_id = T.user_id LEFT JOIN (select T2.user_id, COUNT(T2.user_id) AS failed_count from feature_store.transactions T2 WHERE T2.successful=false GROUP BY T2.user_id) F ON Q.user_id = F.user_id\""
   ]
  },
  {
   "cell_type": "code",
   "execution_count": 43,
   "metadata": {},
   "outputs": [],
   "source": [
    "query_url = \"{}/query/train\".format(url)\n",
    "params = {\"save\":\"true\"} # SHOULD QUERY BE SAVED\n",
    "\n",
    "payload = {\"query\": q, \"query_name\": \"demo_query\"}\n",
    "headers = {'Content-Type': \"application/json\"}\n",
    "\n",
    "response = requests.request(\"POST\", query_url, json=payload, headers=headers, params=params)"
   ]
  },
  {
   "cell_type": "code",
   "execution_count": 44,
   "metadata": {},
   "outputs": [
    {
     "name": "stdout",
     "output_type": "stream",
     "text": [
      "200\n",
      "query saved to db under query_id = 5d7d60df76afa700044b4946\n"
     ]
    }
   ],
   "source": [
    "print(response.status_code)\n",
    "\n",
    "query_id = response.json()[\"query_id\"] # <<<< SAVE THIS FOR LATER!\n",
    "\n",
    "print(\"query saved to db under query_id = \" + query_id)"
   ]
  },
  {
   "cell_type": "code",
   "execution_count": 45,
   "metadata": {},
   "outputs": [],
   "source": [
    "df = pd.DataFrame(response.json()[\"data\"])"
   ]
  },
  {
   "cell_type": "code",
   "execution_count": 46,
   "metadata": {},
   "outputs": [
    {
     "data": {
      "text/html": [
       "<div>\n",
       "<style scoped>\n",
       "    .dataframe tbody tr th:only-of-type {\n",
       "        vertical-align: middle;\n",
       "    }\n",
       "\n",
       "    .dataframe tbody tr th {\n",
       "        vertical-align: top;\n",
       "    }\n",
       "\n",
       "    .dataframe thead th {\n",
       "        text-align: right;\n",
       "    }\n",
       "</style>\n",
       "<table border=\"1\" class=\"dataframe\">\n",
       "  <thead>\n",
       "    <tr style=\"text-align: right;\">\n",
       "      <th></th>\n",
       "      <th>user_id</th>\n",
       "      <th>is_binded</th>\n",
       "      <th>creation_date</th>\n",
       "      <th>binding_date</th>\n",
       "      <th>card_type</th>\n",
       "      <th>failed_count</th>\n",
       "      <th>purchase_time</th>\n",
       "    </tr>\n",
       "  </thead>\n",
       "  <tbody>\n",
       "    <tr>\n",
       "      <th>0</th>\n",
       "      <td>8450805b-a3fc-4cb5-8b00-0b39fffe3ea9</td>\n",
       "      <td>True</td>\n",
       "      <td>1.568495e+09</td>\n",
       "      <td>1.568495e+09</td>\n",
       "      <td>None</td>\n",
       "      <td>NaN</td>\n",
       "      <td>NaN</td>\n",
       "    </tr>\n",
       "    <tr>\n",
       "      <th>1</th>\n",
       "      <td>1a46bbdd-0208-4097-90c4-df5caa65fe0e</td>\n",
       "      <td>True</td>\n",
       "      <td>1.568495e+09</td>\n",
       "      <td>1.568495e+09</td>\n",
       "      <td>credit</td>\n",
       "      <td>NaN</td>\n",
       "      <td>1.568495e+09</td>\n",
       "    </tr>\n",
       "    <tr>\n",
       "      <th>2</th>\n",
       "      <td>617d89f5-f7cd-4d5b-8efb-f1cc15e8855a</td>\n",
       "      <td>True</td>\n",
       "      <td>1.568495e+09</td>\n",
       "      <td>1.568495e+09</td>\n",
       "      <td>credit</td>\n",
       "      <td>1.0</td>\n",
       "      <td>1.568495e+09</td>\n",
       "    </tr>\n",
       "    <tr>\n",
       "      <th>3</th>\n",
       "      <td>cb179cdb-3585-495a-a6c0-ae5a85e1c995</td>\n",
       "      <td>True</td>\n",
       "      <td>1.568495e+09</td>\n",
       "      <td>1.568495e+09</td>\n",
       "      <td>debit</td>\n",
       "      <td>NaN</td>\n",
       "      <td>1.568495e+09</td>\n",
       "    </tr>\n",
       "    <tr>\n",
       "      <th>4</th>\n",
       "      <td>81c4ce2a-a4a8-467f-873b-afa5a9b571f8</td>\n",
       "      <td>True</td>\n",
       "      <td>1.568495e+09</td>\n",
       "      <td>1.568495e+09</td>\n",
       "      <td>credit</td>\n",
       "      <td>1.0</td>\n",
       "      <td>1.568495e+09</td>\n",
       "    </tr>\n",
       "  </tbody>\n",
       "</table>\n",
       "</div>"
      ],
      "text/plain": [
       "                                user_id  is_binded  creation_date  \\\n",
       "0  8450805b-a3fc-4cb5-8b00-0b39fffe3ea9       True   1.568495e+09   \n",
       "1  1a46bbdd-0208-4097-90c4-df5caa65fe0e       True   1.568495e+09   \n",
       "2  617d89f5-f7cd-4d5b-8efb-f1cc15e8855a       True   1.568495e+09   \n",
       "3  cb179cdb-3585-495a-a6c0-ae5a85e1c995       True   1.568495e+09   \n",
       "4  81c4ce2a-a4a8-467f-873b-afa5a9b571f8       True   1.568495e+09   \n",
       "\n",
       "   binding_date card_type  failed_count  purchase_time  \n",
       "0  1.568495e+09      None           NaN            NaN  \n",
       "1  1.568495e+09    credit           NaN   1.568495e+09  \n",
       "2  1.568495e+09    credit           1.0   1.568495e+09  \n",
       "3  1.568495e+09     debit           NaN   1.568495e+09  \n",
       "4  1.568495e+09    credit           1.0   1.568495e+09  "
      ]
     },
     "execution_count": 46,
     "metadata": {},
     "output_type": "execute_result"
    }
   ],
   "source": [
    "df.head()"
   ]
  },
  {
   "cell_type": "markdown",
   "metadata": {},
   "source": [
    "#### I will build a simple transformation and implement it using the Etl interface"
   ]
  },
  {
   "cell_type": "code",
   "execution_count": 47,
   "metadata": {},
   "outputs": [],
   "source": [
    "###\n",
    "\n",
    "from feature_lib.etl_abc import AbstractEtl\n",
    "\n",
    "\n",
    "class Etl(AbstractEtl):\n",
    "    def extract(self):\n",
    "        self.df.dropna(subset=[\"user_id\"], inplace=True)\n",
    "        self.df[\"creation_to_binding\"] = self.df.binding_date - self.df.creation_date\n",
    "        return self.df\n",
    "    \n",
    "###"
   ]
  },
  {
   "cell_type": "markdown",
   "metadata": {},
   "source": [
    "#### then upload to git on this address --> https://raw.githubusercontent.com/miararoy/feature_lib/master/etl_demo.py\n",
    "\n",
    "\n",
    "### using the extract API\n",
    "\n",
    "1. load etl file to feature store\n",
    "2. running the query against data warehouse\n",
    "3. saving etl on feature store"
   ]
  },
  {
   "cell_type": "code",
   "execution_count": 52,
   "metadata": {},
   "outputs": [],
   "source": [
    "extract_url = \"{}/extract/train\".format(url)\n",
    "params = {\"save\":\"true\"} # SHOULD QUERY BE SAVED\n",
    "\n",
    "payload = {\n",
    "    \"query_id\": query_id, # <<< USING THE QUERY ID FROM BEFORE\n",
    "    \"etl_path\": \"https://raw.githubusercontent.com/miararoy/feature_lib/master/etl_demo.py\" # <<< USING THE ETL WE UPLOADED TO GIT\n",
    "} \n",
    "headers = {'Content-Type': \"application/json\"}\n",
    "\n",
    "response = requests.request(\"POST\", extract_url, json=payload, headers=headers, params=params)"
   ]
  },
  {
   "cell_type": "code",
   "execution_count": 53,
   "metadata": {},
   "outputs": [
    {
     "name": "stdout",
     "output_type": "stream",
     "text": [
      "200\n",
      "etl saved to db under etl_id = 5d7d616176afa700044b4948\n"
     ]
    }
   ],
   "source": [
    "print(response.status_code)\n",
    "\n",
    "etl_id = response.json()[\"etl_id\"] # <<<< SAVE THIS FOR LATER!\n",
    "\n",
    "print(\"etl saved to db under etl_id = \" + etl_id)"
   ]
  },
  {
   "cell_type": "code",
   "execution_count": 54,
   "metadata": {},
   "outputs": [],
   "source": [
    "df_after_feature_extraction = pd.DataFrame(response.json()[\"data\"])"
   ]
  },
  {
   "cell_type": "code",
   "execution_count": 56,
   "metadata": {},
   "outputs": [
    {
     "data": {
      "text/html": [
       "<div>\n",
       "<style scoped>\n",
       "    .dataframe tbody tr th:only-of-type {\n",
       "        vertical-align: middle;\n",
       "    }\n",
       "\n",
       "    .dataframe tbody tr th {\n",
       "        vertical-align: top;\n",
       "    }\n",
       "\n",
       "    .dataframe thead th {\n",
       "        text-align: right;\n",
       "    }\n",
       "</style>\n",
       "<table border=\"1\" class=\"dataframe\">\n",
       "  <thead>\n",
       "    <tr style=\"text-align: right;\">\n",
       "      <th></th>\n",
       "      <th>user_id</th>\n",
       "      <th>is_binded</th>\n",
       "      <th>creation_date</th>\n",
       "      <th>binding_date</th>\n",
       "      <th>card_type</th>\n",
       "      <th>failed_count</th>\n",
       "      <th>purchase_time</th>\n",
       "      <th>creation_to_binding</th>\n",
       "    </tr>\n",
       "  </thead>\n",
       "  <tbody>\n",
       "    <tr>\n",
       "      <th>227</th>\n",
       "      <td>4ad61934-f526-45a2-ba84-dabebffbdd41</td>\n",
       "      <td>True</td>\n",
       "      <td>1.568498e+09</td>\n",
       "      <td>1.568498e+09</td>\n",
       "      <td>credit</td>\n",
       "      <td>1.0</td>\n",
       "      <td>1.568498e+09</td>\n",
       "      <td>0.000782</td>\n",
       "    </tr>\n",
       "    <tr>\n",
       "      <th>228</th>\n",
       "      <td>88eb2d8d-6868-43b5-bf70-703bb8d3e28d</td>\n",
       "      <td>True</td>\n",
       "      <td>1.568498e+09</td>\n",
       "      <td>1.568498e+09</td>\n",
       "      <td>debit</td>\n",
       "      <td>1.0</td>\n",
       "      <td>1.568498e+09</td>\n",
       "      <td>0.000430</td>\n",
       "    </tr>\n",
       "    <tr>\n",
       "      <th>229</th>\n",
       "      <td>253b509e-1045-4c8e-aa8e-a8e506bea043</td>\n",
       "      <td>True</td>\n",
       "      <td>1.568498e+09</td>\n",
       "      <td>1.568498e+09</td>\n",
       "      <td>debit</td>\n",
       "      <td>NaN</td>\n",
       "      <td>1.568498e+09</td>\n",
       "      <td>0.000507</td>\n",
       "    </tr>\n",
       "    <tr>\n",
       "      <th>230</th>\n",
       "      <td>455ce49f-1c4e-46b3-8a6f-1884a5e29177</td>\n",
       "      <td>True</td>\n",
       "      <td>1.568498e+09</td>\n",
       "      <td>1.568498e+09</td>\n",
       "      <td>credit</td>\n",
       "      <td>NaN</td>\n",
       "      <td>1.568498e+09</td>\n",
       "      <td>0.000668</td>\n",
       "    </tr>\n",
       "    <tr>\n",
       "      <th>231</th>\n",
       "      <td>316181e4-997e-4327-ab3a-8a4a5ad4e4f7</td>\n",
       "      <td>True</td>\n",
       "      <td>1.568498e+09</td>\n",
       "      <td>1.568498e+09</td>\n",
       "      <td>debit</td>\n",
       "      <td>NaN</td>\n",
       "      <td>1.568498e+09</td>\n",
       "      <td>0.000748</td>\n",
       "    </tr>\n",
       "  </tbody>\n",
       "</table>\n",
       "</div>"
      ],
      "text/plain": [
       "                                  user_id  is_binded  creation_date  \\\n",
       "227  4ad61934-f526-45a2-ba84-dabebffbdd41       True   1.568498e+09   \n",
       "228  88eb2d8d-6868-43b5-bf70-703bb8d3e28d       True   1.568498e+09   \n",
       "229  253b509e-1045-4c8e-aa8e-a8e506bea043       True   1.568498e+09   \n",
       "230  455ce49f-1c4e-46b3-8a6f-1884a5e29177       True   1.568498e+09   \n",
       "231  316181e4-997e-4327-ab3a-8a4a5ad4e4f7       True   1.568498e+09   \n",
       "\n",
       "     binding_date card_type  failed_count  purchase_time  creation_to_binding  \n",
       "227  1.568498e+09    credit           1.0   1.568498e+09             0.000782  \n",
       "228  1.568498e+09     debit           1.0   1.568498e+09             0.000430  \n",
       "229  1.568498e+09     debit           NaN   1.568498e+09             0.000507  \n",
       "230  1.568498e+09    credit           NaN   1.568498e+09             0.000668  \n",
       "231  1.568498e+09     debit           NaN   1.568498e+09             0.000748  "
      ]
     },
     "execution_count": 56,
     "metadata": {},
     "output_type": "execute_result"
    }
   ],
   "source": [
    "df_after_feature_extraction.tail()"
   ]
  },
  {
   "cell_type": "markdown",
   "metadata": {},
   "source": [
    "### Query on backend side (serving)\n",
    "\n",
    "after the data scientists had built the query and the feature extraction we can use it on the backend side\n",
    "\n",
    "steps:\n",
    "\n",
    "1. loading the data via api using query id and key, value search\n",
    "2. converting to data frame"
   ]
  },
  {
   "cell_type": "code",
   "execution_count": 62,
   "metadata": {},
   "outputs": [
    {
     "name": "stdout",
     "output_type": "stream",
     "text": [
      "https://feature-store-demo.herokuapp.com/v1.0/query/realtime\n"
     ]
    }
   ],
   "source": [
    "query_rt_url = \"{}/query/realtime\".format(url)\n",
    "print(query_rt_url)\n",
    "payload = {\"query_id\": query_id, \"index_key\": \"user_id\", \"index_value\": \"316181e4-997e-4327-ab3a-8a4a5ad4e4f7\"} # <<< the key value is the way for backend to query the realtime server for a single user data for serving\n",
    "headers = {'Content-Type': \"application/json\"}\n",
    "\n",
    "response = requests.request(\"POST\", query_rt_url, json=payload, headers=headers)"
   ]
  },
  {
   "cell_type": "code",
   "execution_count": 61,
   "metadata": {},
   "outputs": [
    {
     "name": "stdout",
     "output_type": "stream",
     "text": [
      "500\n"
     ]
    }
   ],
   "source": [
    "print(response.status_code)"
   ]
  },
  {
   "cell_type": "code",
   "execution_count": null,
   "metadata": {},
   "outputs": [],
   "source": []
  }
 ],
 "metadata": {
  "kernelspec": {
   "display_name": "Python 3",
   "language": "python",
   "name": "python3"
  },
  "language_info": {
   "codemirror_mode": {
    "name": "ipython",
    "version": 3
   },
   "file_extension": ".py",
   "mimetype": "text/x-python",
   "name": "python",
   "nbconvert_exporter": "python",
   "pygments_lexer": "ipython3",
   "version": "3.7.1"
  }
 },
 "nbformat": 4,
 "nbformat_minor": 4
}
