{
 "cells": [
  {
   "cell_type": "markdown",
   "metadata": {},
   "source": [
    "# Feature store Example"
   ]
  },
  {
   "cell_type": "code",
   "execution_count": 2,
   "metadata": {},
   "outputs": [],
   "source": [
    "# Imports\n",
    "\n",
    "import pandas as pd\n",
    "import requests"
   ]
  },
  {
   "cell_type": "code",
   "execution_count": 10,
   "metadata": {},
   "outputs": [],
   "source": [
    "url = 'https://feature-store-demo.herokuapp.com/v1.0'"
   ]
  },
  {
   "cell_type": "markdown",
   "metadata": {},
   "source": [
    "### Publishing quotes to db\n",
    "\n",
    "this step will launch 'n_flows' flows each flow will act as follows\n",
    "\n",
    "1. create a quote\n",
    "2. 8/10 quotes will bind to user\n",
    "3. 8/10 binded quotes will be paid and convert to policies\n",
    "4. each policy will have multiple payments"
   ]
  },
  {
   "cell_type": "code",
   "execution_count": 11,
   "metadata": {},
   "outputs": [],
   "source": [
    "publish_url = \"{}/publish\".format(url)\n",
    "\n",
    "params = {\"n_flows\":\"100\"}\n",
    "payload = \"\"\n",
    "headers = {'Content-Type': \"application/json\"}\n",
    "\n",
    "response = requests.request(\"PUT\", publish_url, data=payload, headers=headers, params=params)"
   ]
  },
  {
   "cell_type": "code",
   "execution_count": 12,
   "metadata": {},
   "outputs": [
    {
     "name": "stdout",
     "output_type": "stream",
     "text": [
      "200\n"
     ]
    },
    {
     "data": {
      "text/plain": [
       "{'msg': 'created 100 flows'}"
      ]
     },
     "execution_count": 12,
     "metadata": {},
     "output_type": "execute_result"
    }
   ],
   "source": [
    "print(response.status_code)\n",
    "response.json()"
   ]
  },
  {
   "cell_type": "markdown",
   "metadata": {},
   "source": [
    "### Data Science side (Training)\n",
    "\n",
    "1. loading the data via api\n",
    "2. converting to data frame\n",
    "3. writing etl.py file"
   ]
  },
  {
   "cell_type": "code",
   "execution_count": 23,
   "metadata": {},
   "outputs": [],
   "source": [
    "# I WILL BE USING THE FOLLOWING QUERY\n",
    "q = \"SELECT Q.user_id, Q.is_binded, Q.creation_date, Q.binding_date, T.card_type, F.failed_count, P.purchase_time FROM feature_store.quotes Q LEFT JOIN feature_store.policies P ON Q.user_id = P.user_id LEFT JOIN feature_store.transactions T ON P.user_id = T.user_id LEFT JOIN (select T2.user_id, COUNT(T2.user_id) AS failed_count from feature_store.transactions T2 WHERE T2.successful=false GROUP BY T2.user_id) F ON Q.user_id = F.user_id\""
   ]
  },
  {
   "cell_type": "code",
   "execution_count": 29,
   "metadata": {},
   "outputs": [],
   "source": [
    "query_url = \"{}/query/train\".format(url)\n",
    "params = {\"save\":\"true\"} # SHOULD QUERY BE SAVED\n",
    "\n",
    "payload = {\"query\": q, \"query_name\": \"demo_query\"}\n",
    "headers = {'Content-Type': \"application/json\"}\n",
    "\n",
    "response = requests.request(\"POST\", query_url, json=payload, headers=headers, params=params)"
   ]
  },
  {
   "cell_type": "code",
   "execution_count": 35,
   "metadata": {},
   "outputs": [
    {
     "name": "stdout",
     "output_type": "stream",
     "text": [
      "200\n",
      "query saved to db under query_id = 5d7d5c588a96060004e08da4\n"
     ]
    }
   ],
   "source": [
    "print(response.status_code)\n",
    "\n",
    "query_id = response.json()[\"query_id\"] # <<<< SAVE THIS FOR LATER!\n",
    "\n",
    "print(\"query saved to db under query_id = \" + query_id)"
   ]
  },
  {
   "cell_type": "code",
   "execution_count": 32,
   "metadata": {},
   "outputs": [],
   "source": [
    "df = pd.DataFrame(response.json()[\"data\"])"
   ]
  },
  {
   "cell_type": "code",
   "execution_count": 33,
   "metadata": {},
   "outputs": [
    {
     "data": {
      "text/html": [
       "<div>\n",
       "<style scoped>\n",
       "    .dataframe tbody tr th:only-of-type {\n",
       "        vertical-align: middle;\n",
       "    }\n",
       "\n",
       "    .dataframe tbody tr th {\n",
       "        vertical-align: top;\n",
       "    }\n",
       "\n",
       "    .dataframe thead th {\n",
       "        text-align: right;\n",
       "    }\n",
       "</style>\n",
       "<table border=\"1\" class=\"dataframe\">\n",
       "  <thead>\n",
       "    <tr style=\"text-align: right;\">\n",
       "      <th></th>\n",
       "      <th>user_id</th>\n",
       "      <th>is_binded</th>\n",
       "      <th>creation_date</th>\n",
       "      <th>binding_date</th>\n",
       "      <th>card_type</th>\n",
       "      <th>failed_count</th>\n",
       "      <th>purchase_time</th>\n",
       "    </tr>\n",
       "  </thead>\n",
       "  <tbody>\n",
       "    <tr>\n",
       "      <th>0</th>\n",
       "      <td>8450805b-a3fc-4cb5-8b00-0b39fffe3ea9</td>\n",
       "      <td>True</td>\n",
       "      <td>1.568495e+09</td>\n",
       "      <td>1.568495e+09</td>\n",
       "      <td>None</td>\n",
       "      <td>NaN</td>\n",
       "      <td>NaN</td>\n",
       "    </tr>\n",
       "    <tr>\n",
       "      <th>1</th>\n",
       "      <td>1a46bbdd-0208-4097-90c4-df5caa65fe0e</td>\n",
       "      <td>True</td>\n",
       "      <td>1.568495e+09</td>\n",
       "      <td>1.568495e+09</td>\n",
       "      <td>credit</td>\n",
       "      <td>NaN</td>\n",
       "      <td>1.568495e+09</td>\n",
       "    </tr>\n",
       "    <tr>\n",
       "      <th>2</th>\n",
       "      <td>617d89f5-f7cd-4d5b-8efb-f1cc15e8855a</td>\n",
       "      <td>True</td>\n",
       "      <td>1.568495e+09</td>\n",
       "      <td>1.568495e+09</td>\n",
       "      <td>credit</td>\n",
       "      <td>1.0</td>\n",
       "      <td>1.568495e+09</td>\n",
       "    </tr>\n",
       "    <tr>\n",
       "      <th>3</th>\n",
       "      <td>cb179cdb-3585-495a-a6c0-ae5a85e1c995</td>\n",
       "      <td>True</td>\n",
       "      <td>1.568495e+09</td>\n",
       "      <td>1.568495e+09</td>\n",
       "      <td>debit</td>\n",
       "      <td>NaN</td>\n",
       "      <td>1.568495e+09</td>\n",
       "    </tr>\n",
       "    <tr>\n",
       "      <th>4</th>\n",
       "      <td>81c4ce2a-a4a8-467f-873b-afa5a9b571f8</td>\n",
       "      <td>True</td>\n",
       "      <td>1.568495e+09</td>\n",
       "      <td>1.568495e+09</td>\n",
       "      <td>credit</td>\n",
       "      <td>1.0</td>\n",
       "      <td>1.568495e+09</td>\n",
       "    </tr>\n",
       "  </tbody>\n",
       "</table>\n",
       "</div>"
      ],
      "text/plain": [
       "                                user_id  is_binded  creation_date  \\\n",
       "0  8450805b-a3fc-4cb5-8b00-0b39fffe3ea9       True   1.568495e+09   \n",
       "1  1a46bbdd-0208-4097-90c4-df5caa65fe0e       True   1.568495e+09   \n",
       "2  617d89f5-f7cd-4d5b-8efb-f1cc15e8855a       True   1.568495e+09   \n",
       "3  cb179cdb-3585-495a-a6c0-ae5a85e1c995       True   1.568495e+09   \n",
       "4  81c4ce2a-a4a8-467f-873b-afa5a9b571f8       True   1.568495e+09   \n",
       "\n",
       "   binding_date card_type  failed_count  purchase_time  \n",
       "0  1.568495e+09      None           NaN            NaN  \n",
       "1  1.568495e+09    credit           NaN   1.568495e+09  \n",
       "2  1.568495e+09    credit           1.0   1.568495e+09  \n",
       "3  1.568495e+09     debit           NaN   1.568495e+09  \n",
       "4  1.568495e+09    credit           1.0   1.568495e+09  "
      ]
     },
     "execution_count": 33,
     "metadata": {},
     "output_type": "execute_result"
    }
   ],
   "source": [
    "df.head()"
   ]
  },
  {
   "cell_type": "markdown",
   "metadata": {},
   "source": [
    "#### I will build a simple transformation and implement it using the Etl interface"
   ]
  },
  {
   "cell_type": "code",
   "execution_count": 34,
   "metadata": {},
   "outputs": [],
   "source": [
    "###\n",
    "\n",
    "from feature_lib.etl_abc import AbstractEtl\n",
    "\n",
    "\n",
    "class Etl(AbstractEtl):\n",
    "    def extract(self):\n",
    "        self.df.dropna(subset=[\"user_id\"], inplace=True)\n",
    "        self.df[\"creation_to_binding\"] = self.df.binding_date - self.df.creation_date\n",
    "        self.df.set_index(\"user_id\", inplace=True)\n",
    "        return self.df\n",
    "    \n",
    "###"
   ]
  },
  {
   "cell_type": "markdown",
   "metadata": {},
   "source": [
    "#### then upload to git on this address --> https://raw.githubusercontent.com/miararoy/feature_lib/master/etl_demo.py\n",
    "\n",
    "\n",
    "### using the extract API\n",
    "\n",
    "1. load etl file to feature store\n",
    "2. running the query against data warehouse\n",
    "3. saving etl on feature store"
   ]
  },
  {
   "cell_type": "code",
   "execution_count": 36,
   "metadata": {},
   "outputs": [],
   "source": [
    "extract_url = \"{}/extract/train\".format(url)\n",
    "params = {\"save\":\"true\"} # SHOULD QUERY BE SAVED\n",
    "\n",
    "payload = {\n",
    "    \"query_id\": query_id, # <<< USING THE QUERY ID FROM BEFORE\n",
    "    \"etl_path\": \"https://raw.githubusercontent.com/miararoy/feature_lib/master/etl_demo.py\" # <<< USING THE ETL WE UPLOADED TO GIT\n",
    "} \n",
    "headers = {'Content-Type': \"application/json\"}\n",
    "\n",
    "response = requests.request(\"POST\", extract_url, json=payload, headers=headers, params=params)"
   ]
  },
  {
   "cell_type": "code",
   "execution_count": 37,
   "metadata": {},
   "outputs": [
    {
     "name": "stdout",
     "output_type": "stream",
     "text": [
      "500\n"
     ]
    },
    {
     "ename": "KeyError",
     "evalue": "'etl_id'",
     "output_type": "error",
     "traceback": [
      "\u001b[0;31m---------------------------------------------------------------------------\u001b[0m",
      "\u001b[0;31mKeyError\u001b[0m                                  Traceback (most recent call last)",
      "\u001b[0;32m<ipython-input-37-843c10685428>\u001b[0m in \u001b[0;36m<module>\u001b[0;34m\u001b[0m\n\u001b[1;32m      1\u001b[0m \u001b[0mprint\u001b[0m\u001b[0;34m(\u001b[0m\u001b[0mresponse\u001b[0m\u001b[0;34m.\u001b[0m\u001b[0mstatus_code\u001b[0m\u001b[0;34m)\u001b[0m\u001b[0;34m\u001b[0m\u001b[0;34m\u001b[0m\u001b[0m\n\u001b[1;32m      2\u001b[0m \u001b[0;34m\u001b[0m\u001b[0m\n\u001b[0;32m----> 3\u001b[0;31m \u001b[0metl_id\u001b[0m \u001b[0;34m=\u001b[0m \u001b[0mresponse\u001b[0m\u001b[0;34m.\u001b[0m\u001b[0mjson\u001b[0m\u001b[0;34m(\u001b[0m\u001b[0;34m)\u001b[0m\u001b[0;34m[\u001b[0m\u001b[0;34m\"etl_id\"\u001b[0m\u001b[0;34m]\u001b[0m \u001b[0;31m# <<<< SAVE THIS FOR LATER!\u001b[0m\u001b[0;34m\u001b[0m\u001b[0;34m\u001b[0m\u001b[0m\n\u001b[0m\u001b[1;32m      4\u001b[0m \u001b[0;34m\u001b[0m\u001b[0m\n\u001b[1;32m      5\u001b[0m \u001b[0mprint\u001b[0m\u001b[0;34m(\u001b[0m\u001b[0;34m\"etl saved to db under etl_id = \"\u001b[0m \u001b[0;34m+\u001b[0m \u001b[0metl_id\u001b[0m\u001b[0;34m)\u001b[0m\u001b[0;34m\u001b[0m\u001b[0;34m\u001b[0m\u001b[0m\n",
      "\u001b[0;31mKeyError\u001b[0m: 'etl_id'"
     ]
    }
   ],
   "source": [
    "print(response.status_code)\n",
    "\n",
    "etl_id = response.json()[\"etl_id\"] # <<<< SAVE THIS FOR LATER!\n",
    "\n",
    "print(\"etl saved to db under etl_id = \" + etl_id)"
   ]
  },
  {
   "cell_type": "markdown",
   "metadata": {},
   "source": [
    "### Query on backend side (serving)\n",
    "\n",
    "1. loading the data via api using query id and key, value search\n",
    "2. converting to data frame"
   ]
  },
  {
   "cell_type": "code",
   "execution_count": null,
   "metadata": {},
   "outputs": [],
   "source": []
  }
 ],
 "metadata": {
  "kernelspec": {
   "display_name": "Python 3",
   "language": "python",
   "name": "python3"
  },
  "language_info": {
   "codemirror_mode": {
    "name": "ipython",
    "version": 3
   },
   "file_extension": ".py",
   "mimetype": "text/x-python",
   "name": "python",
   "nbconvert_exporter": "python",
   "pygments_lexer": "ipython3",
   "version": "3.7.1"
  }
 },
 "nbformat": 4,
 "nbformat_minor": 4
}
